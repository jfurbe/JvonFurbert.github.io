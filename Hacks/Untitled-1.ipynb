{
 "cells": [
  {
   "cell_type": "code",
   "execution_count": 1,
   "metadata": {},
   "outputs": [
    {
     "ename": "ModuleNotFoundError",
     "evalue": "No module named 'cryptography'",
     "output_type": "error",
     "traceback": [
      "\u001b[1;31m---------------------------------------------------------------------------\u001b[0m",
      "\u001b[1;31mModuleNotFoundError\u001b[0m                       Traceback (most recent call last)",
      "\u001b[1;32m~\\AppData\\Local\\Temp/ipykernel_10320/3959213623.py\u001b[0m in \u001b[0;36m<module>\u001b[1;34m\u001b[0m\n\u001b[0;32m      1\u001b[0m \u001b[1;32mimport\u001b[0m \u001b[0msys\u001b[0m\u001b[1;33m\u001b[0m\u001b[1;33m\u001b[0m\u001b[0m\n\u001b[0;32m      2\u001b[0m \u001b[1;32mimport\u001b[0m \u001b[0mbase64\u001b[0m\u001b[1;33m\u001b[0m\u001b[1;33m\u001b[0m\u001b[0m\n\u001b[1;32m----> 3\u001b[1;33m \u001b[1;32mfrom\u001b[0m \u001b[0mcryptography\u001b[0m\u001b[1;33m.\u001b[0m\u001b[0mfernet\u001b[0m \u001b[1;32mimport\u001b[0m \u001b[0mFernet\u001b[0m\u001b[1;33m\u001b[0m\u001b[1;33m\u001b[0m\u001b[0m\n\u001b[0m\u001b[0;32m      4\u001b[0m \u001b[1;33m\u001b[0m\u001b[0m\n\u001b[0;32m      5\u001b[0m \u001b[1;33m\u001b[0m\u001b[0m\n",
      "\u001b[1;31mModuleNotFoundError\u001b[0m: No module named 'cryptography'"
     ]
    }
   ],
   "source": [
    "\n",
    "import sys\n",
    "import base64\n",
    "from cryptography.fernet import Fernet\n",
    "\n",
    "\n",
    "\n",
    "usage_msg = \"Usage: \"+ sys.argv[0] +\" (-e/-d) [file]\"\n",
    "help_msg = usage_msg + \"\\n\" +\\\n",
    "        \"Examples:\\n\" +\\\n",
    "        \"  To decrypt a file named 'pole.txt', do: \" +\\\n",
    "        \"'$ python \"+ sys.argv[0] +\" -d pole.txt'\\n\"\n",
    "\n",
    "\n",
    "\n",
    "if len(sys.argv) < 2 or len(sys.argv) > 4:\n",
    "    print(usage_msg)\n",
    "    sys.exit(1)\n",
    "\n",
    "\n",
    "\n",
    "if sys.argv[1] == \"-e\":\n",
    "    if len(sys.argv) < 4:\n",
    "        sim_sala_bim = input(\"Please enter the password:\")\n",
    "    else:\n",
    "        sim_sala_bim = sys.argv[3]\n",
    "\n",
    "    ssb_b64 = base64.b64encode(sim_sala_bim.encode())\n",
    "    c = Fernet(ssb_b64)\n",
    "\n",
    "    with open(sys.argv[2], \"rb\") as f:\n",
    "        data = f.read()\n",
    "        data_c = c.encrypt(data)\n",
    "        sys.stdout.write(data_c.decode())\n",
    "\n",
    "\n",
    "elif sys.argv[1] == \"-d\":\n",
    "    if len(sys.argv) < 4:\n",
    "        sim_sala_bim = input(\"Please enter the password:\")\n",
    "    else:\n",
    "        sim_sala_bim = sys.argv[3]\n",
    "\n",
    "    ssb_b64 = base64.b64encode(sim_sala_bim.encode())\n",
    "    c = Fernet(ssb_b64)\n",
    "\n",
    "    with open(sys.argv[2], \"r\") as f:\n",
    "        data = f.read()\n",
    "        data_c = c.decrypt(data.encode())\n",
    "        sys.stdout.buffer.write(data_c)\n",
    "\n",
    "\n",
    "elif sys.argv[1] == \"-h\" or sys.argv[1] == \"--help\":\n",
    "    print(help_msg)\n",
    "    sys.exit(1)\n",
    "\n",
    "\n",
    "else:\n",
    "    print(\"Unrecognized first argument: \"+ sys.argv[1])\n",
    "    print(\"Please use '-e', '-d', or '-h'.\")\n",
    "\n"
   ]
  },
  {
   "cell_type": "code",
   "execution_count": null,
   "metadata": {},
   "outputs": [],
   "source": []
  }
 ],
 "metadata": {
  "interpreter": {
   "hash": "163b2075b9d49de66ee51909924adbd695fc9aee7767ab197afd4902a4ff3b46"
  },
  "kernelspec": {
   "display_name": "Python 3.10.2 64-bit",
   "language": "python",
   "name": "python3"
  },
  "language_info": {
   "codemirror_mode": {
    "name": "ipython",
    "version": 3
   },
   "file_extension": ".py",
   "mimetype": "text/x-python",
   "name": "python",
   "nbconvert_exporter": "python",
   "pygments_lexer": "ipython3",
   "version": "3.10.2"
  },
  "orig_nbformat": 4
 },
 "nbformat": 4,
 "nbformat_minor": 2
}
